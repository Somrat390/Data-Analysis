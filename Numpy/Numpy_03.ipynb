{
  "nbformat": 4,
  "nbformat_minor": 0,
  "metadata": {
    "colab": {
      "provenance": []
    },
    "kernelspec": {
      "name": "python3",
      "display_name": "Python 3"
    },
    "language_info": {
      "name": "python"
    }
  },
  "cells": [
    {
      "cell_type": "markdown",
      "source": [
        "# np sort"
      ],
      "metadata": {
        "id": "3yDFHQgF0mW2"
      }
    },
    {
      "cell_type": "code",
      "execution_count": null,
      "metadata": {
        "colab": {
          "base_uri": "https://localhost:8080/"
        },
        "id": "iGLmJ5ut0aZV",
        "outputId": "b3d0e55a-f92c-4b07-af9f-fa3241829644"
      },
      "outputs": [
        {
          "output_type": "execute_result",
          "data": {
            "text/plain": [
              "array([46, 72,  8,  2, 76, 31, 99, 25, 42, 12, 90,  9, 21, 80, 36])"
            ]
          },
          "metadata": {},
          "execution_count": 1
        }
      ],
      "source": [
        "import numpy as np\n",
        "a= np.random.randint(1,100,15)\n",
        "a"
      ]
    },
    {
      "cell_type": "code",
      "source": [
        "b = np.random.randint(1,100,24).reshape(6,4)\n",
        "b"
      ],
      "metadata": {
        "colab": {
          "base_uri": "https://localhost:8080/"
        },
        "id": "Q02mAqg_049T",
        "outputId": "c57534ff-863b-48d2-de0c-edca6996f5f6"
      },
      "execution_count": null,
      "outputs": [
        {
          "output_type": "execute_result",
          "data": {
            "text/plain": [
              "array([[ 3, 31, 44, 63],\n",
              "       [19, 39, 37, 65],\n",
              "       [60, 72, 98,  8],\n",
              "       [33, 87, 29, 44],\n",
              "       [57, 51, 47, 17],\n",
              "       [ 2, 82, 23, 43]])"
            ]
          },
          "metadata": {},
          "execution_count": 2
        }
      ]
    },
    {
      "cell_type": "code",
      "source": [
        "np.sort(a)"
      ],
      "metadata": {
        "colab": {
          "base_uri": "https://localhost:8080/"
        },
        "id": "vxKybbak1GzZ",
        "outputId": "a246db27-fa0d-4655-dc7d-dfc30e5fe526"
      },
      "execution_count": null,
      "outputs": [
        {
          "output_type": "execute_result",
          "data": {
            "text/plain": [
              "array([ 2,  8,  9, 12, 21, 25, 31, 36, 42, 46, 72, 76, 80, 90, 99])"
            ]
          },
          "metadata": {},
          "execution_count": 3
        }
      ]
    },
    {
      "cell_type": "code",
      "source": [
        "np.sort(b)"
      ],
      "metadata": {
        "colab": {
          "base_uri": "https://localhost:8080/"
        },
        "id": "iszM3D4n1N3S",
        "outputId": "1d172ee8-f5ef-4a4d-a78c-7f9f3bd42c04"
      },
      "execution_count": null,
      "outputs": [
        {
          "output_type": "execute_result",
          "data": {
            "text/plain": [
              "array([[ 3, 31, 44, 63],\n",
              "       [19, 37, 39, 65],\n",
              "       [ 8, 60, 72, 98],\n",
              "       [29, 33, 44, 87],\n",
              "       [17, 47, 51, 57],\n",
              "       [ 2, 23, 43, 82]])"
            ]
          },
          "metadata": {},
          "execution_count": 4
        }
      ]
    },
    {
      "cell_type": "code",
      "source": [
        "np.sort(b,axis=0)"
      ],
      "metadata": {
        "colab": {
          "base_uri": "https://localhost:8080/"
        },
        "id": "UO6Pc8OW1QKH",
        "outputId": "249a105d-ed1d-4fe5-bbbf-d0d9a095fecd"
      },
      "execution_count": null,
      "outputs": [
        {
          "output_type": "execute_result",
          "data": {
            "text/plain": [
              "array([[ 2, 31, 23,  8],\n",
              "       [ 3, 39, 29, 17],\n",
              "       [19, 51, 37, 43],\n",
              "       [33, 72, 44, 44],\n",
              "       [57, 82, 47, 63],\n",
              "       [60, 87, 98, 65]])"
            ]
          },
          "metadata": {},
          "execution_count": 5
        }
      ]
    },
    {
      "cell_type": "code",
      "source": [
        "np.append(a,200)"
      ],
      "metadata": {
        "colab": {
          "base_uri": "https://localhost:8080/"
        },
        "id": "YZq2phmK1Zxv",
        "outputId": "6d19da85-c482-42c5-c739-a444c97839a1"
      },
      "execution_count": null,
      "outputs": [
        {
          "output_type": "execute_result",
          "data": {
            "text/plain": [
              "array([ 46,  72,   8,   2,  76,  31,  99,  25,  42,  12,  90,   9,  21,\n",
              "        80,  36, 200])"
            ]
          },
          "metadata": {},
          "execution_count": 6
        }
      ]
    },
    {
      "cell_type": "code",
      "source": [
        "np.append(b,np.ones((b.shape[0],1)),axis=1)"
      ],
      "metadata": {
        "colab": {
          "base_uri": "https://localhost:8080/"
        },
        "id": "NGRN3Pbs1npm",
        "outputId": "0e61107b-9d42-431d-d3f7-3fdd8357390a"
      },
      "execution_count": null,
      "outputs": [
        {
          "output_type": "execute_result",
          "data": {
            "text/plain": [
              "array([[ 3., 31., 44., 63.,  1.],\n",
              "       [19., 39., 37., 65.,  1.],\n",
              "       [60., 72., 98.,  8.,  1.],\n",
              "       [33., 87., 29., 44.,  1.],\n",
              "       [57., 51., 47., 17.,  1.],\n",
              "       [ 2., 82., 23., 43.,  1.]])"
            ]
          },
          "metadata": {},
          "execution_count": 8
        }
      ]
    },
    {
      "cell_type": "code",
      "source": [
        "# np concatenate\n",
        "c = np.arange(6).reshape((2,3))\n",
        "d = np.arange(6,12).reshape(2,3)\n",
        "\n",
        "print(c)\n",
        "print(d)\n"
      ],
      "metadata": {
        "colab": {
          "base_uri": "https://localhost:8080/"
        },
        "id": "fHdYawqZ2Duj",
        "outputId": "5f952db6-8705-4d5c-eeab-f57e05a8baca"
      },
      "execution_count": null,
      "outputs": [
        {
          "output_type": "stream",
          "name": "stdout",
          "text": [
            "[[0 1 2]\n",
            " [3 4 5]]\n",
            "[[ 6  7  8]\n",
            " [ 9 10 11]]\n"
          ]
        }
      ]
    },
    {
      "cell_type": "code",
      "source": [
        "np.concatenate((c,d),axis=0)"
      ],
      "metadata": {
        "colab": {
          "base_uri": "https://localhost:8080/"
        },
        "id": "2sPlafo-2srg",
        "outputId": "b3fe6e2c-a49b-4684-fd64-4171606096a8"
      },
      "execution_count": null,
      "outputs": [
        {
          "output_type": "execute_result",
          "data": {
            "text/plain": [
              "array([[ 0,  1,  2],\n",
              "       [ 3,  4,  5],\n",
              "       [ 6,  7,  8],\n",
              "       [ 9, 10, 11]])"
            ]
          },
          "metadata": {},
          "execution_count": 12
        }
      ]
    },
    {
      "cell_type": "markdown",
      "source": [
        "# np.unique"
      ],
      "metadata": {
        "id": "m0p845XO3ZN0"
      }
    },
    {
      "cell_type": "code",
      "source": [
        "e = np.array([1,1,2,3,4,2,3,5,6,8])"
      ],
      "metadata": {
        "id": "KejABlNr3YNu"
      },
      "execution_count": null,
      "outputs": []
    },
    {
      "cell_type": "code",
      "source": [
        "np.unique(e)"
      ],
      "metadata": {
        "colab": {
          "base_uri": "https://localhost:8080/"
        },
        "id": "QjuHYXQe3A-H",
        "outputId": "2b7794b4-918c-4b22-ea26-5f5bf35a6aa2"
      },
      "execution_count": null,
      "outputs": [
        {
          "output_type": "execute_result",
          "data": {
            "text/plain": [
              "array([1, 2, 3, 4, 5, 6, 8])"
            ]
          },
          "metadata": {},
          "execution_count": 15
        }
      ]
    },
    {
      "cell_type": "markdown",
      "source": [
        "# np.expand_dim"
      ],
      "metadata": {
        "id": "ltdnsFfi3s1K"
      }
    },
    {
      "cell_type": "code",
      "source": [
        "a"
      ],
      "metadata": {
        "colab": {
          "base_uri": "https://localhost:8080/"
        },
        "id": "wswMyo-V3VyN",
        "outputId": "e2993290-29c9-4e20-d115-7322c5b45e34"
      },
      "execution_count": null,
      "outputs": [
        {
          "output_type": "execute_result",
          "data": {
            "text/plain": [
              "array([46, 72,  8,  2, 76, 31, 99, 25, 42, 12, 90,  9, 21, 80, 36])"
            ]
          },
          "metadata": {},
          "execution_count": 16
        }
      ]
    },
    {
      "cell_type": "code",
      "source": [
        "np.expand_dims(a,axis=1)"
      ],
      "metadata": {
        "colab": {
          "base_uri": "https://localhost:8080/"
        },
        "id": "4dUYYbV93wkD",
        "outputId": "49f1ff6b-e6fe-4615-e84d-70aa105e5b3b"
      },
      "execution_count": null,
      "outputs": [
        {
          "output_type": "execute_result",
          "data": {
            "text/plain": [
              "array([[46],\n",
              "       [72],\n",
              "       [ 8],\n",
              "       [ 2],\n",
              "       [76],\n",
              "       [31],\n",
              "       [99],\n",
              "       [25],\n",
              "       [42],\n",
              "       [12],\n",
              "       [90],\n",
              "       [ 9],\n",
              "       [21],\n",
              "       [80],\n",
              "       [36]])"
            ]
          },
          "metadata": {},
          "execution_count": 19
        }
      ]
    },
    {
      "cell_type": "code",
      "source": [
        "np.expand_dims(a,axis=1).shape"
      ],
      "metadata": {
        "colab": {
          "base_uri": "https://localhost:8080/"
        },
        "id": "gUZoHFqV36ji",
        "outputId": "96bd35f7-64e6-43b5-eccf-75bff1c56703"
      },
      "execution_count": null,
      "outputs": [
        {
          "output_type": "execute_result",
          "data": {
            "text/plain": [
              "(15, 1)"
            ]
          },
          "metadata": {},
          "execution_count": 20
        }
      ]
    },
    {
      "cell_type": "markdown",
      "source": [
        "# np.where\n",
        "\n",
        "return the idex pos"
      ],
      "metadata": {
        "id": "TuDLKlrO5YNy"
      }
    },
    {
      "cell_type": "code",
      "source": [
        "a"
      ],
      "metadata": {
        "colab": {
          "base_uri": "https://localhost:8080/"
        },
        "id": "6AtgqxkX4Cuq",
        "outputId": "e8d72098-2c76-454b-dd82-960d3fc651f7"
      },
      "execution_count": null,
      "outputs": [
        {
          "output_type": "execute_result",
          "data": {
            "text/plain": [
              "array([46, 72,  8,  2, 76, 31, 99, 25, 42, 12, 90,  9, 21, 80, 36])"
            ]
          },
          "metadata": {},
          "execution_count": 21
        }
      ]
    },
    {
      "cell_type": "code",
      "source": [
        "np.where(a>50)"
      ],
      "metadata": {
        "colab": {
          "base_uri": "https://localhost:8080/"
        },
        "id": "2-AkXFdY5csB",
        "outputId": "a9a088a8-a5aa-4f78-f5f1-66195d5652d8"
      },
      "execution_count": null,
      "outputs": [
        {
          "output_type": "execute_result",
          "data": {
            "text/plain": [
              "(array([ 1,  4,  6, 10, 13]),)"
            ]
          },
          "metadata": {},
          "execution_count": 22
        }
      ]
    },
    {
      "cell_type": "code",
      "source": [
        "#replace all value where values > 50 with 0\n",
        "#np.where(condition,true,false)\n",
        "\n",
        "np.where(a>50,0,a)"
      ],
      "metadata": {
        "colab": {
          "base_uri": "https://localhost:8080/"
        },
        "id": "RMvcAsid5mNx",
        "outputId": "ae728700-0340-42e1-d3da-d2dc7ace61ac"
      },
      "execution_count": null,
      "outputs": [
        {
          "output_type": "execute_result",
          "data": {
            "text/plain": [
              "array([46,  0,  8,  2,  0, 31,  0, 25, 42, 12,  0,  9, 21,  0, 36])"
            ]
          },
          "metadata": {},
          "execution_count": 23
        }
      ]
    },
    {
      "cell_type": "code",
      "source": [
        "np.where(a%2==0,0,a)"
      ],
      "metadata": {
        "colab": {
          "base_uri": "https://localhost:8080/"
        },
        "id": "Vbuu2ZEW50Dw",
        "outputId": "743fc814-5639-41f1-fdb5-f26dd3112fa7"
      },
      "execution_count": null,
      "outputs": [
        {
          "output_type": "execute_result",
          "data": {
            "text/plain": [
              "array([ 0,  0,  0,  0,  0, 31, 99, 25,  0,  0,  0,  9, 21,  0,  0])"
            ]
          },
          "metadata": {},
          "execution_count": 24
        }
      ]
    },
    {
      "cell_type": "markdown",
      "source": [
        "# np.argmax\n",
        "return the index of max ele"
      ],
      "metadata": {
        "id": "BmjQXc126KO1"
      }
    },
    {
      "cell_type": "code",
      "source": [
        "np.argmax(a)"
      ],
      "metadata": {
        "colab": {
          "base_uri": "https://localhost:8080/"
        },
        "id": "bdMHhPJc6Io2",
        "outputId": "cd9d3b36-ce10-437d-cca9-c193598725fb"
      },
      "execution_count": null,
      "outputs": [
        {
          "output_type": "execute_result",
          "data": {
            "text/plain": [
              "np.int64(6)"
            ]
          },
          "metadata": {},
          "execution_count": 25
        }
      ]
    },
    {
      "cell_type": "code",
      "source": [
        "np.argmax(b,axis=0)"
      ],
      "metadata": {
        "colab": {
          "base_uri": "https://localhost:8080/"
        },
        "id": "4EZn-ySm6Skl",
        "outputId": "41b6cc85-af7e-4a9a-f999-966a5c9547c7"
      },
      "execution_count": null,
      "outputs": [
        {
          "output_type": "execute_result",
          "data": {
            "text/plain": [
              "array([2, 3, 2, 1])"
            ]
          },
          "metadata": {},
          "execution_count": 28
        }
      ]
    },
    {
      "cell_type": "code",
      "source": [
        "b"
      ],
      "metadata": {
        "colab": {
          "base_uri": "https://localhost:8080/"
        },
        "id": "gikVvBBy6XrE",
        "outputId": "f04ab261-1954-47c6-e6d0-f03c463c7edd"
      },
      "execution_count": null,
      "outputs": [
        {
          "output_type": "execute_result",
          "data": {
            "text/plain": [
              "array([[ 3, 31, 44, 63],\n",
              "       [19, 39, 37, 65],\n",
              "       [60, 72, 98,  8],\n",
              "       [33, 87, 29, 44],\n",
              "       [57, 51, 47, 17],\n",
              "       [ 2, 82, 23, 43]])"
            ]
          },
          "metadata": {},
          "execution_count": 27
        }
      ]
    },
    {
      "cell_type": "code",
      "source": [
        "np.argmin(a)"
      ],
      "metadata": {
        "colab": {
          "base_uri": "https://localhost:8080/"
        },
        "id": "6_UBIBA96ZFd",
        "outputId": "b922715c-299f-4a44-898b-137971c469a9"
      },
      "execution_count": null,
      "outputs": [
        {
          "output_type": "execute_result",
          "data": {
            "text/plain": [
              "np.int64(3)"
            ]
          },
          "metadata": {},
          "execution_count": 29
        }
      ]
    },
    {
      "cell_type": "markdown",
      "source": [
        "# np.cumsum\n",
        "\n",
        "return cumulative sum"
      ],
      "metadata": {
        "id": "LkNVuIUF6mo7"
      }
    },
    {
      "cell_type": "code",
      "source": [
        "a"
      ],
      "metadata": {
        "colab": {
          "base_uri": "https://localhost:8080/"
        },
        "id": "_a0m_plB6lJr",
        "outputId": "d69b143f-0c3c-4374-f972-9d00fea1069a"
      },
      "execution_count": null,
      "outputs": [
        {
          "output_type": "execute_result",
          "data": {
            "text/plain": [
              "array([46, 72,  8,  2, 76, 31, 99, 25, 42, 12, 90,  9, 21, 80, 36])"
            ]
          },
          "metadata": {},
          "execution_count": 30
        }
      ]
    },
    {
      "cell_type": "code",
      "source": [
        "np.cumsum(a)"
      ],
      "metadata": {
        "colab": {
          "base_uri": "https://localhost:8080/"
        },
        "id": "d15mvdkR6_qi",
        "outputId": "c0accd1c-0508-4c2d-e43f-1722244fa331"
      },
      "execution_count": null,
      "outputs": [
        {
          "output_type": "execute_result",
          "data": {
            "text/plain": [
              "array([ 46, 118, 126, 128, 204, 235, 334, 359, 401, 413, 503, 512, 533,\n",
              "       613, 649])"
            ]
          },
          "metadata": {},
          "execution_count": 31
        }
      ]
    },
    {
      "cell_type": "code",
      "source": [
        "np.cumsum(b)"
      ],
      "metadata": {
        "colab": {
          "base_uri": "https://localhost:8080/"
        },
        "id": "PCJzA0an7Be5",
        "outputId": "a73d05ab-2ef2-4c89-e66b-e5f3952d5cdb"
      },
      "execution_count": null,
      "outputs": [
        {
          "output_type": "execute_result",
          "data": {
            "text/plain": [
              "array([   3,   34,   78,  141,  160,  199,  236,  301,  361,  433,  531,\n",
              "        539,  572,  659,  688,  732,  789,  840,  887,  904,  906,  988,\n",
              "       1011, 1054])"
            ]
          },
          "metadata": {},
          "execution_count": 32
        }
      ]
    },
    {
      "cell_type": "code",
      "source": [
        "b"
      ],
      "metadata": {
        "colab": {
          "base_uri": "https://localhost:8080/"
        },
        "id": "0sKTdRqO7HAh",
        "outputId": "c02a2fab-d9cd-4061-98b0-20ec3f78844b"
      },
      "execution_count": null,
      "outputs": [
        {
          "output_type": "execute_result",
          "data": {
            "text/plain": [
              "array([[ 3, 31, 44, 63],\n",
              "       [19, 39, 37, 65],\n",
              "       [60, 72, 98,  8],\n",
              "       [33, 87, 29, 44],\n",
              "       [57, 51, 47, 17],\n",
              "       [ 2, 82, 23, 43]])"
            ]
          },
          "metadata": {},
          "execution_count": 33
        }
      ]
    },
    {
      "cell_type": "code",
      "source": [
        "np.cumsum(b,axis=0)"
      ],
      "metadata": {
        "colab": {
          "base_uri": "https://localhost:8080/"
        },
        "id": "rqO-z8SM7I2Y",
        "outputId": "defeefa7-59d8-4c04-af6f-1d631948bce8"
      },
      "execution_count": null,
      "outputs": [
        {
          "output_type": "execute_result",
          "data": {
            "text/plain": [
              "array([[  3,  31,  44,  63],\n",
              "       [ 22,  70,  81, 128],\n",
              "       [ 82, 142, 179, 136],\n",
              "       [115, 229, 208, 180],\n",
              "       [172, 280, 255, 197],\n",
              "       [174, 362, 278, 240]])"
            ]
          },
          "metadata": {},
          "execution_count": 34
        }
      ]
    },
    {
      "cell_type": "code",
      "source": [
        "np.cumprod(a)"
      ],
      "metadata": {
        "colab": {
          "base_uri": "https://localhost:8080/"
        },
        "id": "NISZGUKq7PRo",
        "outputId": "06079231-68ea-4192-a692-79cad8d16592"
      },
      "execution_count": null,
      "outputs": [
        {
          "output_type": "execute_result",
          "data": {
            "text/plain": [
              "array([                  46,                 3312,                26496,\n",
              "                      52992,              4027392,            124849152,\n",
              "                12360066048,         309001651200,       12978069350400,\n",
              "            155736832204800,    14016314898432000,   126146834085888000,\n",
              "        2649083515803648000,  9012496453486772224, -7591521001248129024])"
            ]
          },
          "metadata": {},
          "execution_count": 35
        }
      ]
    },
    {
      "cell_type": "markdown",
      "source": [
        "# Percentaile"
      ],
      "metadata": {
        "id": "5-g1zIy97Yzp"
      }
    },
    {
      "cell_type": "code",
      "source": [
        "a"
      ],
      "metadata": {
        "colab": {
          "base_uri": "https://localhost:8080/"
        },
        "id": "ZFrhK-lV7YP_",
        "outputId": "3178dbb5-a99e-4b62-ae97-44fad16a817d"
      },
      "execution_count": null,
      "outputs": [
        {
          "output_type": "execute_result",
          "data": {
            "text/plain": [
              "array([46, 72,  8,  2, 76, 31, 99, 25, 42, 12, 90,  9, 21, 80, 36])"
            ]
          },
          "metadata": {},
          "execution_count": 36
        }
      ]
    },
    {
      "cell_type": "code",
      "source": [
        "np.percentile(a,100)"
      ],
      "metadata": {
        "colab": {
          "base_uri": "https://localhost:8080/"
        },
        "id": "Te_CPIn774DE",
        "outputId": "cfbdf4b7-12e0-4b39-dd33-68e2080e8953"
      },
      "execution_count": null,
      "outputs": [
        {
          "output_type": "execute_result",
          "data": {
            "text/plain": [
              "np.float64(99.0)"
            ]
          },
          "metadata": {},
          "execution_count": 37
        }
      ]
    },
    {
      "cell_type": "code",
      "source": [
        "np.percentile(a,50)"
      ],
      "metadata": {
        "id": "jxu9SW5179Z0",
        "outputId": "b9ed4b76-675e-425e-a903-e2ab71f5c571",
        "colab": {
          "base_uri": "https://localhost:8080/"
        }
      },
      "execution_count": null,
      "outputs": [
        {
          "output_type": "execute_result",
          "data": {
            "text/plain": [
              "np.float64(36.0)"
            ]
          },
          "metadata": {},
          "execution_count": 38
        }
      ]
    },
    {
      "cell_type": "code",
      "source": [
        "np.percentile(a,0)"
      ],
      "metadata": {
        "id": "8LOX2PF18Bn8",
        "colab": {
          "base_uri": "https://localhost:8080/"
        },
        "outputId": "59f89e1c-ad16-426b-ebd8-f38822211d86"
      },
      "execution_count": 40,
      "outputs": [
        {
          "output_type": "execute_result",
          "data": {
            "text/plain": [
              "np.float64(2.0)"
            ]
          },
          "metadata": {},
          "execution_count": 40
        }
      ]
    },
    {
      "cell_type": "markdown",
      "source": [
        "# np.histogram"
      ],
      "metadata": {
        "id": "T-mFS_aC9GBC"
      }
    },
    {
      "cell_type": "code",
      "source": [
        "a"
      ],
      "metadata": {
        "colab": {
          "base_uri": "https://localhost:8080/"
        },
        "id": "qh9SfH6j9E07",
        "outputId": "6f68e5c3-34f2-429a-ac13-25a959ef35ba"
      },
      "execution_count": 41,
      "outputs": [
        {
          "output_type": "execute_result",
          "data": {
            "text/plain": [
              "array([46, 72,  8,  2, 76, 31, 99, 25, 42, 12, 90,  9, 21, 80, 36])"
            ]
          },
          "metadata": {},
          "execution_count": 41
        }
      ]
    },
    {
      "cell_type": "code",
      "source": [
        "np.histogram(a,bins=[0,10,100])"
      ],
      "metadata": {
        "colab": {
          "base_uri": "https://localhost:8080/"
        },
        "id": "gjx1OAjh-f3o",
        "outputId": "260742aa-3f51-4431-fe17-16ec97086cc6"
      },
      "execution_count": 42,
      "outputs": [
        {
          "output_type": "execute_result",
          "data": {
            "text/plain": [
              "(array([ 3, 12]), array([  0,  10, 100]))"
            ]
          },
          "metadata": {},
          "execution_count": 42
        }
      ]
    },
    {
      "cell_type": "code",
      "source": [
        "np.histogram(a,bins=[0,10,20,30,40,50,60,70,80,90,100])"
      ],
      "metadata": {
        "colab": {
          "base_uri": "https://localhost:8080/"
        },
        "id": "7werCdwW-mHg",
        "outputId": "84d95e94-7e46-4395-89a6-1415cb717a1e"
      },
      "execution_count": 43,
      "outputs": [
        {
          "output_type": "execute_result",
          "data": {
            "text/plain": [
              "(array([3, 1, 2, 2, 2, 0, 0, 2, 1, 2]),\n",
              " array([  0,  10,  20,  30,  40,  50,  60,  70,  80,  90, 100]))"
            ]
          },
          "metadata": {},
          "execution_count": 43
        }
      ]
    },
    {
      "cell_type": "markdown",
      "source": [
        "# np.corrcoef"
      ],
      "metadata": {
        "id": "FTMKSa4x_NDo"
      }
    },
    {
      "cell_type": "code",
      "source": [
        "slary = np.array([20000,30000,40000,50000])\n",
        "experience = np.array([1,2,3,4])\n",
        "\n",
        "np.corrcoef(slary,experience)"
      ],
      "metadata": {
        "colab": {
          "base_uri": "https://localhost:8080/"
        },
        "id": "GuBOX1eg_CFA",
        "outputId": "9ebabceb-cc67-4706-9746-33d33dfbd541"
      },
      "execution_count": 45,
      "outputs": [
        {
          "output_type": "execute_result",
          "data": {
            "text/plain": [
              "array([[1., 1.],\n",
              "       [1., 1.]])"
            ]
          },
          "metadata": {},
          "execution_count": 45
        }
      ]
    },
    {
      "cell_type": "markdown",
      "source": [
        "# np.isin"
      ],
      "metadata": {
        "id": "uGwbmEPNAQzO"
      }
    },
    {
      "cell_type": "code",
      "source": [
        "a"
      ],
      "metadata": {
        "colab": {
          "base_uri": "https://localhost:8080/"
        },
        "id": "t3WRp9BZ_9Hg",
        "outputId": "cda26c3a-90ec-41ae-c476-a245db4226b7"
      },
      "execution_count": 46,
      "outputs": [
        {
          "output_type": "execute_result",
          "data": {
            "text/plain": [
              "array([46, 72,  8,  2, 76, 31, 99, 25, 42, 12, 90,  9, 21, 80, 36])"
            ]
          },
          "metadata": {},
          "execution_count": 46
        }
      ]
    },
    {
      "cell_type": "code",
      "source": [
        "items = [10,20,30,40,50,60]\n",
        "np.isin(a,items)"
      ],
      "metadata": {
        "colab": {
          "base_uri": "https://localhost:8080/"
        },
        "id": "4B7wGpv5AUr2",
        "outputId": "efe58f1f-8d89-479c-8c52-a166a1ca84db"
      },
      "execution_count": 47,
      "outputs": [
        {
          "output_type": "execute_result",
          "data": {
            "text/plain": [
              "array([False, False, False, False, False, False, False, False, False,\n",
              "       False, False, False, False, False, False])"
            ]
          },
          "metadata": {},
          "execution_count": 47
        }
      ]
    },
    {
      "cell_type": "code",
      "source": [
        "a[np.isin(a,items)]"
      ],
      "metadata": {
        "colab": {
          "base_uri": "https://localhost:8080/"
        },
        "id": "ybePBDARAicv",
        "outputId": "e1e98b27-e043-47e3-d32b-2b563404382e"
      },
      "execution_count": 48,
      "outputs": [
        {
          "output_type": "execute_result",
          "data": {
            "text/plain": [
              "array([], dtype=int64)"
            ]
          },
          "metadata": {},
          "execution_count": 48
        }
      ]
    },
    {
      "cell_type": "markdown",
      "source": [
        "# Flip"
      ],
      "metadata": {
        "id": "-THJ9A5pAsvN"
      }
    },
    {
      "cell_type": "code",
      "source": [
        "a"
      ],
      "metadata": {
        "colab": {
          "base_uri": "https://localhost:8080/"
        },
        "id": "5gqpoYzsAmnG",
        "outputId": "c0a335e5-ec87-4f1b-aa78-c12b6772c91e"
      },
      "execution_count": 49,
      "outputs": [
        {
          "output_type": "execute_result",
          "data": {
            "text/plain": [
              "array([46, 72,  8,  2, 76, 31, 99, 25, 42, 12, 90,  9, 21, 80, 36])"
            ]
          },
          "metadata": {},
          "execution_count": 49
        }
      ]
    },
    {
      "cell_type": "code",
      "source": [
        "np.flip(a)"
      ],
      "metadata": {
        "colab": {
          "base_uri": "https://localhost:8080/"
        },
        "id": "SHRuBS-6AvJe",
        "outputId": "7547f029-b1db-4444-e57b-e20977ca69f0"
      },
      "execution_count": 50,
      "outputs": [
        {
          "output_type": "execute_result",
          "data": {
            "text/plain": [
              "array([36, 80, 21,  9, 90, 12, 42, 25, 99, 31, 76,  2,  8, 72, 46])"
            ]
          },
          "metadata": {},
          "execution_count": 50
        }
      ]
    },
    {
      "cell_type": "markdown",
      "source": [
        "# np.put|"
      ],
      "metadata": {
        "id": "6AUfuWvmA9-e"
      }
    },
    {
      "cell_type": "code",
      "source": [
        "a"
      ],
      "metadata": {
        "colab": {
          "base_uri": "https://localhost:8080/"
        },
        "id": "VO9AD6QDA4xG",
        "outputId": "8bd9292a-806c-4fea-a0a0-a23d82295bbf"
      },
      "execution_count": 51,
      "outputs": [
        {
          "output_type": "execute_result",
          "data": {
            "text/plain": [
              "array([46, 72,  8,  2, 76, 31, 99, 25, 42, 12, 90,  9, 21, 80, 36])"
            ]
          },
          "metadata": {},
          "execution_count": 51
        }
      ]
    },
    {
      "cell_type": "code",
      "source": [
        "np.put(a,[0,1],[110,50])"
      ],
      "metadata": {
        "id": "AWH7qioaBCG9"
      },
      "execution_count": 52,
      "outputs": []
    },
    {
      "cell_type": "code",
      "source": [
        "a"
      ],
      "metadata": {
        "colab": {
          "base_uri": "https://localhost:8080/"
        },
        "id": "org1mXPABHOJ",
        "outputId": "ea41dbad-8492-4edc-9303-d169ee120415"
      },
      "execution_count": 53,
      "outputs": [
        {
          "output_type": "execute_result",
          "data": {
            "text/plain": [
              "array([110,  50,   8,   2,  76,  31,  99,  25,  42,  12,  90,   9,  21,\n",
              "        80,  36])"
            ]
          },
          "metadata": {},
          "execution_count": 53
        }
      ]
    },
    {
      "cell_type": "markdown",
      "source": [
        "# delete"
      ],
      "metadata": {
        "id": "1cGqiJEoBKv-"
      }
    },
    {
      "cell_type": "code",
      "source": [
        "np.delete(a,0)"
      ],
      "metadata": {
        "colab": {
          "base_uri": "https://localhost:8080/"
        },
        "id": "ZT2vL2p7BH-l",
        "outputId": "7b6a83a0-be85-4dd5-b30b-ecc0bd10da62"
      },
      "execution_count": 54,
      "outputs": [
        {
          "output_type": "execute_result",
          "data": {
            "text/plain": [
              "array([50,  8,  2, 76, 31, 99, 25, 42, 12, 90,  9, 21, 80, 36])"
            ]
          },
          "metadata": {},
          "execution_count": 54
        }
      ]
    },
    {
      "cell_type": "code",
      "source": [
        "np.delete(a,[0,2,4])"
      ],
      "metadata": {
        "colab": {
          "base_uri": "https://localhost:8080/"
        },
        "id": "lRXjAbosBRum",
        "outputId": "800ad1bb-7ac6-4fc4-877c-0e6ec476ebc7"
      },
      "execution_count": 55,
      "outputs": [
        {
          "output_type": "execute_result",
          "data": {
            "text/plain": [
              "array([50,  2, 31, 99, 25, 42, 12, 90,  9, 21, 80, 36])"
            ]
          },
          "metadata": {},
          "execution_count": 55
        }
      ]
    },
    {
      "cell_type": "markdown",
      "source": [
        "# Set Function"
      ],
      "metadata": {
        "id": "gx7mHMpXBnaN"
      }
    },
    {
      "cell_type": "code",
      "source": [
        "a = np.array([1,2,3,4,5])\n",
        "b = np.array([3,4,5,6,7])\n",
        "\n"
      ],
      "metadata": {
        "id": "qdAO7O-gBXEF"
      },
      "execution_count": 56,
      "outputs": []
    },
    {
      "cell_type": "code",
      "source": [
        "np.union1d(a,b)"
      ],
      "metadata": {
        "colab": {
          "base_uri": "https://localhost:8080/"
        },
        "id": "bSpW8zCXB4QM",
        "outputId": "24398f91-3a6d-4950-f1b3-fbcb0ee7a8bb"
      },
      "execution_count": 57,
      "outputs": [
        {
          "output_type": "execute_result",
          "data": {
            "text/plain": [
              "array([1, 2, 3, 4, 5, 6, 7])"
            ]
          },
          "metadata": {},
          "execution_count": 57
        }
      ]
    },
    {
      "cell_type": "code",
      "source": [
        "np.intersect1d(a,b)"
      ],
      "metadata": {
        "colab": {
          "base_uri": "https://localhost:8080/"
        },
        "id": "JULBCYuSB7Wc",
        "outputId": "b41e2b49-74dd-4d98-8f27-ed0af2930493"
      },
      "execution_count": 58,
      "outputs": [
        {
          "output_type": "execute_result",
          "data": {
            "text/plain": [
              "array([3, 4, 5])"
            ]
          },
          "metadata": {},
          "execution_count": 58
        }
      ]
    },
    {
      "cell_type": "code",
      "source": [
        "np.setdiff1d(a,b)"
      ],
      "metadata": {
        "colab": {
          "base_uri": "https://localhost:8080/"
        },
        "id": "9EnFlwF6CAcl",
        "outputId": "e22c0f6b-c1ea-4f99-9d16-f63e3c7880ed"
      },
      "execution_count": 59,
      "outputs": [
        {
          "output_type": "execute_result",
          "data": {
            "text/plain": [
              "array([1, 2])"
            ]
          },
          "metadata": {},
          "execution_count": 59
        }
      ]
    },
    {
      "cell_type": "code",
      "source": [
        "np.setxor1d(a,b)"
      ],
      "metadata": {
        "colab": {
          "base_uri": "https://localhost:8080/"
        },
        "id": "FAtab3XzCFiU",
        "outputId": "598d7d6c-fa06-4add-fe14-058561e1b676"
      },
      "execution_count": 60,
      "outputs": [
        {
          "output_type": "execute_result",
          "data": {
            "text/plain": [
              "array([1, 2, 6, 7])"
            ]
          },
          "metadata": {},
          "execution_count": 60
        }
      ]
    },
    {
      "cell_type": "code",
      "source": [
        "np.in1d(a,2)"
      ],
      "metadata": {
        "colab": {
          "base_uri": "https://localhost:8080/"
        },
        "id": "Y6fVK3qZCKA0",
        "outputId": "24372163-8cf0-4a59-f872-af121281daae"
      },
      "execution_count": 61,
      "outputs": [
        {
          "output_type": "stream",
          "name": "stderr",
          "text": [
            "/tmp/ipython-input-1646599517.py:1: DeprecationWarning: `in1d` is deprecated. Use `np.isin` instead.\n",
            "  np.in1d(a,2)\n"
          ]
        },
        {
          "output_type": "execute_result",
          "data": {
            "text/plain": [
              "array([False,  True, False, False, False])"
            ]
          },
          "metadata": {},
          "execution_count": 61
        }
      ]
    },
    {
      "cell_type": "code",
      "source": [
        "a[np.in1d(a,2)]"
      ],
      "metadata": {
        "colab": {
          "base_uri": "https://localhost:8080/"
        },
        "id": "l4jlajaaCPcs",
        "outputId": "acaa5e19-74ab-4246-f8ae-15b959fb86ff"
      },
      "execution_count": 62,
      "outputs": [
        {
          "output_type": "stream",
          "name": "stderr",
          "text": [
            "/tmp/ipython-input-2988045372.py:1: DeprecationWarning: `in1d` is deprecated. Use `np.isin` instead.\n",
            "  a[np.in1d(a,2)]\n"
          ]
        },
        {
          "output_type": "execute_result",
          "data": {
            "text/plain": [
              "array([2])"
            ]
          },
          "metadata": {},
          "execution_count": 62
        }
      ]
    },
    {
      "cell_type": "markdown",
      "source": [
        "# np clip give the value"
      ],
      "metadata": {
        "id": "US67x8EdCj2s"
      }
    },
    {
      "cell_type": "code",
      "source": [
        "np.clip(a,a_max=4,a_min=2)"
      ],
      "metadata": {
        "colab": {
          "base_uri": "https://localhost:8080/"
        },
        "id": "k7ujIdyiCU8E",
        "outputId": "ec1c3ec2-b09d-4858-b43d-d9a7c2d5faab"
      },
      "execution_count": 64,
      "outputs": [
        {
          "output_type": "execute_result",
          "data": {
            "text/plain": [
              "array([2, 2, 3, 4, 4])"
            ]
          },
          "metadata": {},
          "execution_count": 64
        }
      ]
    },
    {
      "cell_type": "code",
      "source": [],
      "metadata": {
        "id": "-dOCKrnWC1cb"
      },
      "execution_count": null,
      "outputs": []
    }
  ]
}